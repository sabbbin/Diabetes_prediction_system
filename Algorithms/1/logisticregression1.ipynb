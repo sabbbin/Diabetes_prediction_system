{
 "metadata": {
  "language_info": {
   "codemirror_mode": {
    "name": "ipython",
    "version": 3
   },
   "file_extension": ".py",
   "mimetype": "text/x-python",
   "name": "python",
   "nbconvert_exporter": "python",
   "pygments_lexer": "ipython3",
   "version": "3.8.0-final"
  },
  "orig_nbformat": 2,
  "kernelspec": {
   "name": "python_defaultSpec_1600492109852",
   "display_name": "Python 3.8.0 32-bit"
  }
 },
 "nbformat": 4,
 "nbformat_minor": 2,
 "cells": [
  {
   "cell_type": "code",
   "execution_count": 1,
   "metadata": {},
   "outputs": [],
   "source": [
    "from math import exp\n",
    "#logistic regression\n",
    "l_rate=0.09\n",
    "n_epoch=11\n",
    "def predict(row, coefficients):\n",
    "\tyhat = coefficients[0]\n",
    "\n",
    "\tfor i in range(len(row)-1):\n",
    "\t\n",
    "\t\tyhat += coefficients[i + 1] * row[i]\n",
    "\treturn 1.0 / (1.0 + exp(-yhat))   \n",
    "    \n",
    "\n",
    "# Estimate logistic regression coefficients using stochastic gradient descent\n",
    "\n",
    "def coefficients_sgd(train, l_rate, n_epoch):\n",
    "\tglobal coef\n",
    "\tcoef=[0.0 for i in range (len(train[0]))]\n",
    "\t# coef = [0.0 for i in range(len(train[0]))]\n",
    "\t# coef=[0.0 for in range (len(train))]\n",
    "    # for epoch in range(n_epoch):\n",
    "\tfor epoch in range(n_epoch):\n",
    "\n",
    "\t\tfor row in train:\n",
    "\t\t\tyhat = predict(row, coef)\n",
    "\t\t\terror = row[-1] - yhat\n",
    "\t\t\tcoef[0] = coef[0] + l_rate * error * yhat * (1.0 - yhat)\n",
    "\t\t\tfor i in range(len(row)-1):\n",
    "\t\t\t\tcoef[i + 1] = coef[i + 1] + l_rate * error * yhat * (1.0 - yhat) * row[i]\n",
    "\treturn coef\n",
    " \n",
    "\n",
    "def logistic_regression(train, test):\n",
    "\tprint ('hello')\n",
    "\tcoef=coefficients_sgd(train,l_rate,n_epoch)\n",
    "    # coef=coefficients_sgd(train, l_rate, n_epoch)\n",
    "\tpredictions=list()\n",
    "    # predictions=list()\n",
    "\tfor row in test:\n",
    "    # for row in test:\n",
    "        # yhat=predict(row,coef)\n",
    "\t\tyhat=predict(row,coef)\n",
    "        # yhat=round(yhat)\n",
    "\t\tyhat=round(yhat)\n",
    "        # predictions.append(yhat)\n",
    "\t\tpredictions.append(yhat)\n",
    "\treturn predictions\n",
    "    # return (predictions)\n",
    "\n",
    "def predictedoutcome(aa):\n",
    "\tpredicted=predict(aa,coef)\n",
    "\treturn predicted\n"
   ]
  },
  {
   "cell_type": "code",
   "execution_count": null,
   "metadata": {},
   "outputs": [],
   "source": []
  }
 ]
}