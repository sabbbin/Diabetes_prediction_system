{
 "metadata": {
  "language_info": {
   "codemirror_mode": {
    "name": "ipython",
    "version": 3
   },
   "file_extension": ".py",
   "mimetype": "text/x-python",
   "name": "python",
   "nbconvert_exporter": "python",
   "pygments_lexer": "ipython3",
   "version": 3
  },
  "orig_nbformat": 2
 },
 "nbformat": 4,
 "nbformat_minor": 2,
 "cells": [
  {
   "cell_type": "code",
   "execution_count": null,
   "metadata": {},
   "outputs": [],
   "source": [
    "#calculate the euclidean distance between two vectors\n",
    "from math import sqrt\n",
    "def euclidean_distance(row1, row2):\n",
    "    distance=0.0\n",
    "    for i in range (len(row1)-1):\n",
    "        distance+=(row1[i]-row2[i])**2\n",
    "    return sqrt(distance)\n",
    "\n",
    "def get_neighbors(train,test_row, num_neighbors):\n",
    "    distance=list()\n",
    "    for train_row in train:\n",
    "        dist=euclidean_distance(test_row, train_row)\n",
    "        distance.append((train_row,dist))\n",
    "    distance.sort(key=lambda tup:tup[1])\n",
    "    neighbors=list()\n",
    "    for i in range(num_neighbors):\n",
    "        neighbors.append(distance[i][0])\n",
    "    return neighbors\n",
    "\n",
    "def predict_classification(neighbors):\n",
    "    output_values=[row[-1] for row in neighbors]\n",
    "    prediction=max(set(output_values), key=output_values.count)\n",
    "    return prediction\n",
    "num_neighbors=11\n",
    "def k_nearest_neighbors(train,test):\n",
    "    global train1\n",
    "    train1=train\n",
    "    \n",
    "    prediction=list()\n",
    "    for row in test:\n",
    "        neighbors=get_neighbors(train, row,num_neighbors)\n",
    "        output=predict_classification(neighbors)\n",
    "        prediction.append(output)\n",
    "    return (prediction)\n",
    "\n",
    "def predictedoutcome(aa):\n",
    "    aa=sum(aa,[])\n",
    "    predicted=get_neighbors(train1,aa,num_neighbors)\n",
    "    return predicted"
   ]
  }
 ]
}